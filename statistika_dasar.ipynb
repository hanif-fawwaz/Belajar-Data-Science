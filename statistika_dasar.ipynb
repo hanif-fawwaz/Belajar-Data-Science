{
 "cells": [
  {
   "cell_type": "code",
   "execution_count": 1,
   "id": "a1573a08",
   "metadata": {},
   "outputs": [],
   "source": [
    "import numpy as np\n",
    "from statistics import mode"
   ]
  },
  {
   "cell_type": "code",
   "execution_count": null,
   "id": "f97ea298",
   "metadata": {},
   "outputs": [],
   "source": [
    "# Mean, Median dan Modus\n",
    "data = [10, 20, 20, 30, 40, 50, 100]"
   ]
  },
  {
   "cell_type": "code",
   "execution_count": 5,
   "id": "74bf0356",
   "metadata": {},
   "outputs": [
    {
     "name": "stdout",
     "output_type": "stream",
     "text": [
      "38.57142857142857\n"
     ]
    }
   ],
   "source": [
    "# Rata rata\n",
    "mean = np.mean(data)\n",
    "print(mean)"
   ]
  },
  {
   "cell_type": "code",
   "execution_count": 6,
   "id": "d9a06495",
   "metadata": {},
   "outputs": [
    {
     "name": "stdout",
     "output_type": "stream",
     "text": [
      "30.0\n"
     ]
    }
   ],
   "source": [
    "# Median\n",
    "median = np.median(data)\n",
    "print(median)"
   ]
  },
  {
   "cell_type": "code",
   "execution_count": null,
   "id": "a84bb2d4",
   "metadata": {},
   "outputs": [
    {
     "name": "stdout",
     "output_type": "stream",
     "text": [
      "20\n"
     ]
    }
   ],
   "source": [
    "# Modus (angka yang paling sering muncul)\n",
    "modus = mode(data)\n",
    "print(modus)"
   ]
  },
  {
   "cell_type": "markdown",
   "id": "01c95c17",
   "metadata": {},
   "source": [
    "<!-- keteranagn -->\n",
    "Mean: Rata-Rata Semua data\n",
    "Median: Nilai tengah saat di urutkan\n",
    "Modus: Angka yang paling sering muncul "
   ]
  },
  {
   "cell_type": "code",
   "execution_count": 9,
   "id": "6ffb8516",
   "metadata": {},
   "outputs": [
    {
     "name": "stdout",
     "output_type": "stream",
     "text": [
      "783.6734693877551\n"
     ]
    }
   ],
   "source": [
    "# Varians & Standar Deviasi\n",
    "# Varians\n",
    "var = np.var(data)\n",
    "print(var)"
   ]
  },
  {
   "cell_type": "code",
   "execution_count": 10,
   "id": "e7cf53ff",
   "metadata": {},
   "outputs": [
    {
     "name": "stdout",
     "output_type": "stream",
     "text": [
      "27.994168488950606\n"
     ]
    }
   ],
   "source": [
    "std = np.std(data)\n",
    "print(std)"
   ]
  },
  {
   "cell_type": "markdown",
   "id": "d2e34984",
   "metadata": {},
   "source": [
    "Varians & std.dev : Mengukur seberapa jauh data menyebar dari rata-rata"
   ]
  },
  {
   "cell_type": "code",
   "execution_count": 12,
   "id": "7aa3f40a",
   "metadata": {},
   "outputs": [
    {
     "name": "stdout",
     "output_type": "stream",
     "text": [
      "             Jam_Belajar     Nilai\n",
      "Jam_Belajar     1.000000  0.995871\n",
      "Nilai           0.995871  1.000000\n"
     ]
    }
   ],
   "source": [
    "# Korelasi (Hubungan antar variabel)\n",
    "import pandas as pd\n",
    "df = pd.DataFrame({\n",
    "    \"Jam_Belajar\": [1,2,3,4,5,6,7],\n",
    "    \"Nilai\": [50, 55, 65, 70, 75, 85, 90]\n",
    "})\n",
    "\n",
    "print(df.corr())"
   ]
  },
  {
   "cell_type": "markdown",
   "id": "be034a65",
   "metadata": {},
   "source": [
    "corr(): Menghitung korelasi pearson (antara -1 sampai 1):\n",
    "\n",
    "- Mendekati 1: Hubungan positif kuat (semakin banyak belajar, semakin tinggi nilai)\n",
    "- Mendekati -1: Hubungan negatif kuat\n",
    "- Mendekati 0: tidak ada hubungan"
   ]
  }
 ],
 "metadata": {
  "kernelspec": {
   "display_name": "Python 3",
   "language": "python",
   "name": "python3"
  },
  "language_info": {
   "codemirror_mode": {
    "name": "ipython",
    "version": 3
   },
   "file_extension": ".py",
   "mimetype": "text/x-python",
   "name": "python",
   "nbconvert_exporter": "python",
   "pygments_lexer": "ipython3",
   "version": "3.11.9"
  }
 },
 "nbformat": 4,
 "nbformat_minor": 5
}
