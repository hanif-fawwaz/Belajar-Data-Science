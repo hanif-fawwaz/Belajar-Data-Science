{
 "cells": [
  {
   "cell_type": "code",
   "execution_count": null,
   "id": "3e1e5926",
   "metadata": {},
   "outputs": [],
   "source": [
    "# Baca data CSV\n",
    "import pandas as pd\n",
    "df = pd.read_csv(\"data_penjualan.csv\")"
   ]
  },
  {
   "cell_type": "code",
   "execution_count": null,
   "id": "05bcd093",
   "metadata": {},
   "outputs": [],
   "source": [
    "# Tampilkan 5 Baris Pertama\n",
    "print(df.head())"
   ]
  },
  {
   "cell_type": "code",
   "execution_count": null,
   "id": "dfb45186",
   "metadata": {},
   "outputs": [],
   "source": [
    "# Tampilkan 5 Baris Terakhir\n",
    "print(df.tail())"
   ]
  },
  {
   "cell_type": "code",
   "execution_count": null,
   "id": "05fc0fb2",
   "metadata": {},
   "outputs": [],
   "source": [
    "# Statistik Ringkas\n",
    "print(df.describe())"
   ]
  }
 ],
 "metadata": {
  "language_info": {
   "name": "python"
  }
 },
 "nbformat": 4,
 "nbformat_minor": 5
}
